{
  "cells": [
    {
      "cell_type": "markdown",
      "metadata": {
        "vscode": {
          "languageId": "raw"
        }
      },
      "source": [
        "## Initialization"
      ]
    },
    {
      "cell_type": "code",
      "execution_count": null,
      "metadata": {},
      "outputs": [],
      "source": [
        "# Import the updated client module with mod_count support\n",
        "from demo_modules import client\n",
        "\n",
        "# The base_url is already initialized in the client module\n",
        "client.init(\"development\")\n"
      ]
    },
    {
      "cell_type": "markdown",
      "metadata": {
        "vscode": {
          "languageId": "raw"
        }
      },
      "source": [
        "## Account Management"
      ]
    },
    {
      "cell_type": "code",
      "execution_count": null,
      "metadata": {},
      "outputs": [],
      "source": [
        "# (Try signup) and Login\n",
        "#success = client.signup(\"watermelon@g.com\", \"watermelon12345\")\n",
        "success = client.login(\"watermelon@g.com\", \"watermelon12345\")\n"
      ]
    },
    {
      "cell_type": "code",
      "execution_count": null,
      "metadata": {},
      "outputs": [],
      "source": [
        "# delete account\n",
        "if input(\"delete account? (y/n)\") == \"y\":\n",
        "    success = client.delete_account()\n",
        "    if success:\n",
        "        print(\"account deleted\")\n",
        "    else:\n",
        "        print(\"failed to delete account\")"
      ]
    },
    {
      "cell_type": "markdown",
      "metadata": {
        "vscode": {
          "languageId": "raw"
        }
      },
      "source": [
        "## Project Management"
      ]
    },
    {
      "cell_type": "code",
      "execution_count": null,
      "metadata": {},
      "outputs": [],
      "source": [
        "# create demo project\n",
        "demo_project_name = \"demo_name\"\n",
        "success = client.create_project(demo_project_name)\n"
      ]
    },
    {
      "cell_type": "code",
      "execution_count": null,
      "metadata": {},
      "outputs": [],
      "source": [
        "# view the project list\n",
        "project_list = client.get_project_list()"
      ]
    },
    {
      "cell_type": "code",
      "execution_count": null,
      "metadata": {},
      "outputs": [],
      "source": [
        "# load demo project data\n",
        "demo_project_name = \"demo_name\"\n",
        "client.load_project_data(demo_project_name)\n"
      ]
    },
    {
      "cell_type": "code",
      "execution_count": null,
      "metadata": {},
      "outputs": [],
      "source": [
        "# delete a project (CAREFULL!)\n",
        "demo_project_name = input(\"Enter the project name to delete: \")\n",
        "success = client.delete_project(demo_project_name)\n"
      ]
    },
    {
      "cell_type": "markdown",
      "metadata": {
        "vscode": {
          "languageId": "raw"
        }
      },
      "source": [
        "## Interactive Chat with Mod Count Support\n",
        "\n",
        "The client automatically handles mod_count tracking and data consistency checks."
      ]
    },
    {
      "cell_type": "code",
      "execution_count": null,
      "metadata": {},
      "outputs": [],
      "source": [
        "# Start an interactive chat session\n",
        "# This uses the updated ai_interact function with mod_count support\n",
        "client.start_chat(demo_project_name)\n"
      ]
    }
  ],
  "metadata": {
    "kernelspec": {
      "display_name": "venv",
      "language": "python",
      "name": "python3"
    },
    "language_info": {
      "codemirror_mode": {
        "name": "ipython",
        "version": 3
      },
      "file_extension": ".py",
      "mimetype": "text/x-python",
      "name": "python",
      "nbconvert_exporter": "python",
      "pygments_lexer": "ipython3",
      "version": "3.10.11"
    }
  },
  "nbformat": 4,
  "nbformat_minor": 2
}
